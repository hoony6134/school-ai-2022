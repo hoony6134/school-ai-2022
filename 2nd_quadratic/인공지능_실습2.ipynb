{
  "nbformat": 4,
  "nbformat_minor": 0,
  "metadata": {
    "colab": {
      "provenance": []
    },
    "kernelspec": {
      "name": "python3",
      "display_name": "Python 3"
    },
    "language_info": {
      "name": "python"
    }
  },
  "cells": [
    {
      "cell_type": "markdown",
      "source": [
        "##Import Packages"
      ],
      "metadata": {
        "id": "yw-akbxCHXeP"
      }
    },
    {
      "cell_type": "code",
      "execution_count": null,
      "metadata": {
        "id": "iVtf-Xi7EXsF"
      },
      "outputs": [],
      "source": [
        "# tensorflow, keras, numpy 라이브러리 사용 선언\n",
        "import tensorflow as tf\n",
        "import numpy as np\n",
        "from tensorflow import keras"
      ]
    },
    {
      "cell_type": "markdown",
      "source": [
        "## Model\n",
        "* 복잡한 학습 = hidden layer 증가"
      ],
      "metadata": {
        "id": "YgzIWchPHbny"
      }
    },
    {
      "cell_type": "code",
      "source": [
        "def basketball(y_new):\n",
        "    xs = np.array([0.9, 1.9, 2.6, 3.9, 4.5, 6.5], dtype = float)\n",
        "    ys = np.array([2.0, 9.1, 10.3, 11.6, 12.2, 14.0], dtype = float)\n",
        "    un=int(input(\"병렬 연결할 개수를 입력하세요: \"))\n",
        "    # 일차함수 형태를 학습시키는 것이므로 입력1, 출력1이어야 함(뉴런은 여러개라도 상관없으나 단순한 모델이기에 돼지 목에 진주목걸이가 될지도)\n",
        "    model = tf.keras.Sequential([keras.layers.Dense(units=un, input_shape=[1])]) #units: 병렬 개수 / input_shape: 독립변수 개수\n",
        "\n",
        "    # 컴파일을 위해서는 optimizer와 loss가 필요함\n",
        "    model.compile(optimizer = 'sgd', loss = 'mse') # AI가 학습하며 발생하는 오류(손실을 측정/ 입력/출력을 바탕으로 규칙을 파악(생성)하는데, 예측이 얼마나 잘 되었는지 평가함\n",
        "    #loss가 적을수록 수렴(학습이 잘 되고/되어 있음), mse=mean_squared_error(평균 제곱 오차) #optimizer(최적화 방법): sgd(확률적 경사 하강 방식)\n",
        "    #loss 함수로 예측이 얼마나 잘되었는지 평가, 모델 최적화 위해 어떻게 할 것인지 의사결정\n",
        "\n",
        "    # x와 y의 관계를 찾기 위해서 학습하는 함수인 model.fit함수 호출(현재 학습자료가 적으니 epoch를 늘려 학습기회를 많이 주는 것이 좋음)\n",
        "    # model.fit(xs, ys, epochs=500)\n",
        "    epoch=int(input(\"Epoch를 입력하세요: \"))\n",
        "    vb=input(\"학습 과정을 출력할까요? (y/n) (기본값은 n입니다. 출력할 경우 학습 시간이 더 오래 걸릴 수 있습니다.): \")\n",
        "    vbn=0\n",
        "    if vb=='y' or vb==\"Y\":\n",
        "      vbn=1\n",
        "    print(\"----------------\\nTranining Started\\nEpochs:\",epoch,\"\\n----------------\")\n",
        "    model.fit(xs, ys, epochs=epoch,verbose=vbn)\n",
        "    return model.predict(y_new)[0]"
      ],
      "metadata": {
        "id": "CI_v3PtfHfJj"
      },
      "execution_count": null,
      "outputs": []
    },
    {
      "cell_type": "code",
      "source": [
        "# 모델을 학습시켜 규칙을 만드는데, numpy로 자료를 생성했으므로 입력할 때도 고려해서 매개변수 입력해야 함!\n",
        "prediction = basketball([int(input(\"예측할 값을 입력하세요: \"))])\n",
        "print(\"예측된 위치 (피트): \"+str(prediction).replace(\"[\",\"\").replace(\"]\",\"\")+\"ft\")"
      ],
      "metadata": {
        "colab": {
          "base_uri": "https://localhost:8080/"
        },
        "id": "Sdn3OJi-JREl",
        "outputId": "41ef0311-06ac-448a-964e-026aa73ed6ba"
      },
      "execution_count": null,
      "outputs": [
        {
          "output_type": "stream",
          "name": "stdout",
          "text": [
            "예측할 값을 입력하세요: 10\n",
            "Hidden Layer의 개수를 입력하세요: 1\n",
            "Epoch를 입력하세요: 500\n",
            "학습 과정을 출력할까요? (y/n) (기본값은 n입니다. 출력할 경우 학습 시간이 더 오래 걸릴 수 있습니다.): n\n",
            "----------------\n",
            "Tranining Started\n",
            "Epochs: 500 \n",
            "----------------\n"
          ]
        },
        {
          "output_type": "stream",
          "name": "stderr",
          "text": [
            "WARNING:tensorflow:5 out of the last 5 calls to <function Model.make_predict_function.<locals>.predict_function at 0x7f7c023677a0> triggered tf.function retracing. Tracing is expensive and the excessive number of tracings could be due to (1) creating @tf.function repeatedly in a loop, (2) passing tensors with different shapes, (3) passing Python objects instead of tensors. For (1), please define your @tf.function outside of the loop. For (2), @tf.function has reduce_retracing=True option that can avoid unnecessary retracing. For (3), please refer to https://www.tensorflow.org/guide/function#controlling_retracing and https://www.tensorflow.org/api_docs/python/tf/function for  more details.\n"
          ]
        },
        {
          "output_type": "stream",
          "name": "stdout",
          "text": [
            "1/1 [==============================] - 0s 43ms/step\n",
            "예측된 위치 (피트): 22.40726ft\n"
          ]
        }
      ]
    }
  ]
}